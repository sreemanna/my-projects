{
 "cells": [
  {
   "cell_type": "code",
   "execution_count": 1,
   "id": "2d7121bd",
   "metadata": {},
   "outputs": [],
   "source": [
    "#Step 1 unnecessary warnings during code execution\n",
    "import warnings\n",
    "warnings.filterwarnings('ignore')\n",
    "\n",
    "#step 2 import pandas and numpy \n",
    "import pandas as pd\n",
    "import numpy as np\n",
    "\n",
    "# deciding decimal places\n",
    "np.set_printoptions(precision=4,linewidth=100)\n",
    "\n",
    "#matplot library for display data in graphical format\n",
    "import matplotlib.pyplot as plt"
   ]
  },
  {
   "cell_type": "code",
   "execution_count": 2,
   "id": "dd114eb6",
   "metadata": {},
   "outputs": [
    {
     "data": {
      "text/html": [
       "<div>\n",
       "<style scoped>\n",
       "    .dataframe tbody tr th:only-of-type {\n",
       "        vertical-align: middle;\n",
       "    }\n",
       "\n",
       "    .dataframe tbody tr th {\n",
       "        vertical-align: top;\n",
       "    }\n",
       "\n",
       "    .dataframe thead th {\n",
       "        text-align: right;\n",
       "    }\n",
       "</style>\n",
       "<table border=\"1\" class=\"dataframe\">\n",
       "  <thead>\n",
       "    <tr style=\"text-align: right;\">\n",
       "      <th></th>\n",
       "      <th>Date</th>\n",
       "      <th>hdfc</th>\n",
       "      <th>asian paint</th>\n",
       "      <th>Nifty</th>\n",
       "    </tr>\n",
       "  </thead>\n",
       "  <tbody>\n",
       "    <tr>\n",
       "      <th>0</th>\n",
       "      <td>1-Apr-20</td>\n",
       "      <td>1583.50</td>\n",
       "      <td>1603.20</td>\n",
       "      <td>8253.80</td>\n",
       "    </tr>\n",
       "    <tr>\n",
       "      <th>1</th>\n",
       "      <td>3-Apr-20</td>\n",
       "      <td>1499.55</td>\n",
       "      <td>1520.90</td>\n",
       "      <td>8083.80</td>\n",
       "    </tr>\n",
       "    <tr>\n",
       "      <th>2</th>\n",
       "      <td>7-Apr-20</td>\n",
       "      <td>1555.15</td>\n",
       "      <td>1623.80</td>\n",
       "      <td>8792.20</td>\n",
       "    </tr>\n",
       "    <tr>\n",
       "      <th>3</th>\n",
       "      <td>8-Apr-20</td>\n",
       "      <td>1558.80</td>\n",
       "      <td>1608.95</td>\n",
       "      <td>8748.75</td>\n",
       "    </tr>\n",
       "    <tr>\n",
       "      <th>4</th>\n",
       "      <td>9-Apr-20</td>\n",
       "      <td>1703.10</td>\n",
       "      <td>1651.35</td>\n",
       "      <td>9111.90</td>\n",
       "    </tr>\n",
       "    <tr>\n",
       "      <th>5</th>\n",
       "      <td>13-Apr-20</td>\n",
       "      <td>1655.20</td>\n",
       "      <td>1680.85</td>\n",
       "      <td>8993.85</td>\n",
       "    </tr>\n",
       "    <tr>\n",
       "      <th>6</th>\n",
       "      <td>15-Apr-20</td>\n",
       "      <td>1596.30</td>\n",
       "      <td>1718.20</td>\n",
       "      <td>8925.30</td>\n",
       "    </tr>\n",
       "    <tr>\n",
       "      <th>7</th>\n",
       "      <td>16-Apr-20</td>\n",
       "      <td>1625.75</td>\n",
       "      <td>1743.10</td>\n",
       "      <td>8992.80</td>\n",
       "    </tr>\n",
       "    <tr>\n",
       "      <th>8</th>\n",
       "      <td>17-Apr-20</td>\n",
       "      <td>1680.60</td>\n",
       "      <td>1756.25</td>\n",
       "      <td>9266.75</td>\n",
       "    </tr>\n",
       "    <tr>\n",
       "      <th>9</th>\n",
       "      <td>20-Apr-20</td>\n",
       "      <td>1727.70</td>\n",
       "      <td>1730.45</td>\n",
       "      <td>9261.85</td>\n",
       "    </tr>\n",
       "  </tbody>\n",
       "</table>\n",
       "</div>"
      ],
      "text/plain": [
       "        Date     hdfc  asian paint    Nifty\n",
       "0   1-Apr-20  1583.50      1603.20  8253.80\n",
       "1   3-Apr-20  1499.55      1520.90  8083.80\n",
       "2   7-Apr-20  1555.15      1623.80  8792.20\n",
       "3   8-Apr-20  1558.80      1608.95  8748.75\n",
       "4   9-Apr-20  1703.10      1651.35  9111.90\n",
       "5  13-Apr-20  1655.20      1680.85  8993.85\n",
       "6  15-Apr-20  1596.30      1718.20  8925.30\n",
       "7  16-Apr-20  1625.75      1743.10  8992.80\n",
       "8  17-Apr-20  1680.60      1756.25  9266.75\n",
       "9  20-Apr-20  1727.70      1730.45  9261.85"
      ]
     },
     "execution_count": 2,
     "metadata": {},
     "output_type": "execute_result"
    }
   ],
   "source": [
    "# step 3 import datafile and storing it into pandas dataframe(Always)\n",
    "Stock_df=pd.read_csv('stock.csv')\n",
    "Stock_df.head(10)"
   ]
  },
  {
   "cell_type": "code",
   "execution_count": 3,
   "id": "90a8b549",
   "metadata": {
    "scrolled": true
   },
   "outputs": [
    {
     "name": "stdout",
     "output_type": "stream",
     "text": [
      "<class 'pandas.core.frame.DataFrame'>\n",
      "RangeIndex: 249 entries, 0 to 248\n",
      "Data columns (total 4 columns):\n",
      " #   Column       Non-Null Count  Dtype  \n",
      "---  ------       --------------  -----  \n",
      " 0   Date         249 non-null    object \n",
      " 1   hdfc         249 non-null    float64\n",
      " 2   asian paint  249 non-null    float64\n",
      " 3   Nifty        249 non-null    float64\n",
      "dtypes: float64(3), object(1)\n",
      "memory usage: 7.9+ KB\n"
     ]
    }
   ],
   "source": [
    "# step 4 information of data\n",
    "Stock_df.info()"
   ]
  },
  {
   "cell_type": "code",
   "execution_count": 4,
   "id": "024b38a4",
   "metadata": {},
   "outputs": [
    {
     "data": {
      "text/plain": [
       "Text(0, 0.5, 'hdfc')"
      ]
     },
     "execution_count": 4,
     "metadata": {},
     "output_type": "execute_result"
    },
    {
     "data": {
      "image/png": "[encoded data removed]",
      "text/plain": [
       "<Figure size 432x288 with 1 Axes>"
      ]
     },
     "metadata": {
      "needs_background": "light"
     },
     "output_type": "display_data"
    }
   ],
   "source": [
    "# Step 5 importing Libraries for plotting the data (first Assumtionn of LR model is linearity bet x and y)\n",
    "plt.scatter(Stock_df['Nifty'],Stock_df['hdfc'])\n",
    "plt.xlabel('Nifty')\n",
    "plt.ylabel('hdfc')"
   ]
  },
  {
   "cell_type": "code",
   "execution_count": 5,
   "id": "7b30f40c",
   "metadata": {},
   "outputs": [
    {
     "data": {
      "text/html": [
       "<div>\n",
       "<style scoped>\n",
       "    .dataframe tbody tr th:only-of-type {\n",
       "        vertical-align: middle;\n",
       "    }\n",
       "\n",
       "    .dataframe tbody tr th {\n",
       "        vertical-align: top;\n",
       "    }\n",
       "\n",
       "    .dataframe thead th {\n",
       "        text-align: right;\n",
       "    }\n",
       "</style>\n",
       "<table border=\"1\" class=\"dataframe\">\n",
       "  <thead>\n",
       "    <tr style=\"text-align: right;\">\n",
       "      <th></th>\n",
       "      <th>const</th>\n",
       "      <th>Nifty</th>\n",
       "    </tr>\n",
       "  </thead>\n",
       "  <tbody>\n",
       "    <tr>\n",
       "      <th>0</th>\n",
       "      <td>1.0</td>\n",
       "      <td>8253.80</td>\n",
       "    </tr>\n",
       "    <tr>\n",
       "      <th>1</th>\n",
       "      <td>1.0</td>\n",
       "      <td>8083.80</td>\n",
       "    </tr>\n",
       "    <tr>\n",
       "      <th>2</th>\n",
       "      <td>1.0</td>\n",
       "      <td>8792.20</td>\n",
       "    </tr>\n",
       "    <tr>\n",
       "      <th>3</th>\n",
       "      <td>1.0</td>\n",
       "      <td>8748.75</td>\n",
       "    </tr>\n",
       "    <tr>\n",
       "      <th>4</th>\n",
       "      <td>1.0</td>\n",
       "      <td>9111.90</td>\n",
       "    </tr>\n",
       "  </tbody>\n",
       "</table>\n",
       "</div>"
      ],
      "text/plain": [
       "   const    Nifty\n",
       "0    1.0  8253.80\n",
       "1    1.0  8083.80\n",
       "2    1.0  8792.20\n",
       "3    1.0  8748.75\n",
       "4    1.0  9111.90"
      ]
     },
     "execution_count": 5,
     "metadata": {},
     "output_type": "execute_result"
    }
   ],
   "source": [
    "# Step 6 importing statmodel\n",
    "import statsmodels.api as sm\n",
    "\n",
    "#step 7 x is defined as independent variable (feature)\n",
    "X=sm.add_constant(Stock_df['Nifty'])\n",
    "X.head(5)"
   ]
  },
  {
   "cell_type": "code",
   "execution_count": 6,
   "id": "54f6bb73",
   "metadata": {},
   "outputs": [
    {
     "data": {
      "text/plain": [
       "0    1583.50\n",
       "1    1499.55\n",
       "2    1555.15\n",
       "3    1558.80\n",
       "4    1703.10\n",
       "Name: hdfc, dtype: float64"
      ]
     },
     "execution_count": 6,
     "metadata": {},
     "output_type": "execute_result"
    }
   ],
   "source": [
    "#Step 8 Y is definded as dependent variable (Target variable)\n",
    "y=Stock_df['hdfc']\n",
    "y.head(5)"
   ]
  },
  {
   "cell_type": "code",
   "execution_count": 7,
   "id": "bd3f2bb6",
   "metadata": {},
   "outputs": [],
   "source": [
    "# Step 9 importing library sklearn for ML model\n",
    "from sklearn.model_selection import train_test_split"
   ]
  },
  {
   "cell_type": "code",
   "execution_count": 8,
   "id": "e992602b",
   "metadata": {},
   "outputs": [],
   "source": [
    "# step 10 splitting dataset into train and test set\n",
    "train_X,test_X,train_y,test_y=train_test_split(X,y,train_size=0.8,random_state=100)"
   ]
  },
  {
   "cell_type": "code",
   "execution_count": 9,
   "id": "0d705871",
   "metadata": {},
   "outputs": [],
   "source": [
    "#step 11 fitting linear model equation\n",
    "hdfc_lm=sm.OLS(train_y,train_X).fit()"
   ]
  },
  {
   "cell_type": "code",
   "execution_count": 10,
   "id": "71793a31",
   "metadata": {},
   "outputs": [
    {
     "name": "stdout",
     "output_type": "stream",
     "text": [
      "const   -146.642917\n",
      "Nifty      0.185496\n",
      "dtype: float64\n"
     ]
    }
   ],
   "source": [
    "#step 12 printing result of linear regression model\n",
    "print(hdfc_lm.params)"
   ]
  },
  {
   "cell_type": "code",
   "execution_count": 11,
   "id": "2bc252c1",
   "metadata": {},
   "outputs": [
    {
     "data": {
      "text/html": [
       "<table class=\"simpletable\">\n",
       "<caption>OLS Regression Results</caption>\n",
       "<tr>\n",
       "  <th>Dep. Variable:</th>          <td>hdfc</td>       <th>  R-squared:         </th> <td>   0.912</td> \n",
       "</tr>\n",
       "<tr>\n",
       "  <th>Model:</th>                   <td>OLS</td>       <th>  Adj. R-squared:    </th> <td>   0.912</td> \n",
       "</tr>\n",
       "<tr>\n",
       "  <th>Method:</th>             <td>Least Squares</td>  <th>  F-statistic:       </th> <td>   2041.</td> \n",
       "</tr>\n",
       "<tr>\n",
       "  <th>Date:</th>             <td>Sat, 29 Jan 2022</td> <th>  Prob (F-statistic):</th> <td>6.62e-106</td>\n",
       "</tr>\n",
       "<tr>\n",
       "  <th>Time:</th>                 <td>21:06:27</td>     <th>  Log-Likelihood:    </th> <td> -1221.7</td> \n",
       "</tr>\n",
       "<tr>\n",
       "  <th>No. Observations:</th>      <td>   199</td>      <th>  AIC:               </th> <td>   2447.</td> \n",
       "</tr>\n",
       "<tr>\n",
       "  <th>Df Residuals:</th>          <td>   197</td>      <th>  BIC:               </th> <td>   2454.</td> \n",
       "</tr>\n",
       "<tr>\n",
       "  <th>Df Model:</th>              <td>     1</td>      <th>                     </th>     <td> </td>    \n",
       "</tr>\n",
       "<tr>\n",
       "  <th>Covariance Type:</th>      <td>nonrobust</td>    <th>                     </th>     <td> </td>    \n",
       "</tr>\n",
       "</table>\n",
       "<table class=\"simpletable\">\n",
       "<tr>\n",
       "    <td></td>       <th>coef</th>     <th>std err</th>      <th>t</th>      <th>P>|t|</th>  <th>[0.025</th>    <th>0.975]</th>  \n",
       "</tr>\n",
       "<tr>\n",
       "  <th>const</th> <td> -146.6429</td> <td>   49.730</td> <td>   -2.949</td> <td> 0.004</td> <td> -244.713</td> <td>  -48.572</td>\n",
       "</tr>\n",
       "<tr>\n",
       "  <th>Nifty</th> <td>    0.1855</td> <td>    0.004</td> <td>   45.175</td> <td> 0.000</td> <td>    0.177</td> <td>    0.194</td>\n",
       "</tr>\n",
       "</table>\n",
       "<table class=\"simpletable\">\n",
       "<tr>\n",
       "  <th>Omnibus:</th>       <td>14.528</td> <th>  Durbin-Watson:     </th> <td>   1.961</td>\n",
       "</tr>\n",
       "<tr>\n",
       "  <th>Prob(Omnibus):</th> <td> 0.001</td> <th>  Jarque-Bera (JB):  </th> <td>   8.868</td>\n",
       "</tr>\n",
       "<tr>\n",
       "  <th>Skew:</th>          <td>-0.365</td> <th>  Prob(JB):          </th> <td>  0.0119</td>\n",
       "</tr>\n",
       "<tr>\n",
       "  <th>Kurtosis:</th>      <td> 2.267</td> <th>  Cond. No.          </th> <td>7.53e+04</td>\n",
       "</tr>\n",
       "</table><br/><br/>Notes:<br/>[1] Standard Errors assume that the covariance matrix of the errors is correctly specified.<br/>[2] The condition number is large, 7.53e+04. This might indicate that there are<br/>strong multicollinearity or other numerical problems."
      ],
      "text/plain": [
       "<class 'statsmodels.iolib.summary.Summary'>\n",
       "\"\"\"\n",
       "                            OLS Regression Results                            \n",
       "==============================================================================\n",
       "Dep. Variable:                   hdfc   R-squared:                       0.912\n",
       "Model:                            OLS   Adj. R-squared:                  0.912\n",
       "Method:                 Least Squares   F-statistic:                     2041.\n",
       "Date:                Sat, 29 Jan 2022   Prob (F-statistic):          6.62e-106\n",
       "Time:                        21:06:27   Log-Likelihood:                -1221.7\n",
       "No. Observations:                 199   AIC:                             2447.\n",
       "Df Residuals:                     197   BIC:                             2454.\n",
       "Df Model:                           1                                         \n",
       "Covariance Type:            nonrobust                                         \n",
       "==============================================================================\n",
       "                 coef    std err          t      P>|t|      [0.025      0.975]\n",
       "------------------------------------------------------------------------------\n",
       "const       -146.6429     49.730     -2.949      0.004    -244.713     -48.572\n",
       "Nifty          0.1855      0.004     45.175      0.000       0.177       0.194\n",
       "==============================================================================\n",
       "Omnibus:                       14.528   Durbin-Watson:                   1.961\n",
       "Prob(Omnibus):                  0.001   Jarque-Bera (JB):                8.868\n",
       "Skew:                          -0.365   Prob(JB):                       0.0119\n",
       "Kurtosis:                       2.267   Cond. No.                     7.53e+04\n",
       "==============================================================================\n",
       "\n",
       "Notes:\n",
       "[1] Standard Errors assume that the covariance matrix of the errors is correctly specified.\n",
       "[2] The condition number is large, 7.53e+04. This might indicate that there are\n",
       "strong multicollinearity or other numerical problems.\n",
       "\"\"\""
      ]
     },
     "execution_count": 11,
     "metadata": {},
     "output_type": "execute_result"
    }
   ],
   "source": [
    "#step 13 summary result of all the statistics of linear regression\n",
    "hdfc_lm.summary()"
   ]
  },
  {
   "cell_type": "code",
   "execution_count": 12,
   "id": "66b73388",
   "metadata": {},
   "outputs": [],
   "source": [
    "# step 14 importing libraries for plotting the data\n",
    "import matplotlib.pyplot as plt\n",
    "import seaborn as sns\n",
    "%matplotlib inline"
   ]
  },
  {
   "cell_type": "code",
   "execution_count": 13,
   "id": "e08fe607",
   "metadata": {},
   "outputs": [],
   "source": [
    "#Step 15 importing libraries for plotting the data\n",
    "get_ipython().run_line_magic('matplotlib','inline')"
   ]
  },
  {
   "cell_type": "code",
   "execution_count": 14,
   "id": "c444e51d",
   "metadata": {},
   "outputs": [
    {
     "data": {
      "text/plain": [
       "<Figure size 576x432 with 0 Axes>"
      ]
     },
     "metadata": {},
     "output_type": "display_data"
    },
    {
     "data": {
      "image/png": "[encoded data removed]",
      "text/plain": [
       "<Figure size 432x288 with 1 Axes>"
      ]
     },
     "metadata": {
      "needs_background": "light"
     },
     "output_type": "display_data"
    }
   ],
   "source": [
    "#step 16 Check for normal distribution of error\n",
    "hdfc_resid=hdfc_lm.resid\n",
    "probplot=sm.ProbPlot(hdfc_resid)\n",
    "plt.figure(figsize=(8,6))\n",
    "probplot.ppplot(line='45')\n",
    "plt.title(\"Normal P-P Plot of Regression Standardized Residuals\")\n",
    "plt.show()\n",
    "#Straight line indicates cummulative Normal Distribution\n",
    "#Doted line indicates cummulative Distribution of error\n",
    "# DOts are closer to the straight line which indicates that res follows normids"
   ]
  },
  {
   "cell_type": "code",
   "execution_count": 15,
   "id": "f04f1ed9",
   "metadata": {},
   "outputs": [
    {
     "data": {
      "image/png": "[encoded data removed]",
      "text/plain": [
       "<Figure size 432x288 with 1 Axes>"
      ]
     },
     "metadata": {
      "needs_background": "light"
     },
     "output_type": "display_data"
    }
   ],
   "source": [
    "# Step 17 Test of Homoscedasticity\n",
    "def get_standardized_values( vals ):\n",
    "    return (vals - vals.mean())/vals.std()\n",
    "plt.scatter( get_standardized_values( hdfc_lm.fittedvalues ),\n",
    "    get_standardized_values( hdfc_resid ) )\n",
    "plt.title( \"Residual Plot: hdfc Prediction\" );\n",
    "plt.xlabel( \"Standardized predicted values\")\n",
    "plt.ylabel( \"Standardized Residuals\");\n"
   ]
  },
  {
   "cell_type": "code",
   "execution_count": 16,
   "id": "b4310040",
   "metadata": {},
   "outputs": [],
   "source": [
    "#step 18 outlier detection using Zscore\n",
    "from scipy.stats import zscore"
   ]
  },
  {
   "cell_type": "code",
   "execution_count": 17,
   "id": "14f8ec0d",
   "metadata": {},
   "outputs": [],
   "source": [
    "Stock_df['z_score_hdfc']=zscore(Stock_df.hdfc)"
   ]
  },
  {
   "cell_type": "code",
   "execution_count": 18,
   "id": "2f02094a",
   "metadata": {},
   "outputs": [
    {
     "data": {
      "text/html": [
       "<div>\n",
       "<style scoped>\n",
       "    .dataframe tbody tr th:only-of-type {\n",
       "        vertical-align: middle;\n",
       "    }\n",
       "\n",
       "    .dataframe tbody tr th {\n",
       "        vertical-align: top;\n",
       "    }\n",
       "\n",
       "    .dataframe thead th {\n",
       "        text-align: right;\n",
       "    }\n",
       "</style>\n",
       "<table border=\"1\" class=\"dataframe\">\n",
       "  <thead>\n",
       "    <tr style=\"text-align: right;\">\n",
       "      <th></th>\n",
       "      <th>Date</th>\n",
       "      <th>hdfc</th>\n",
       "      <th>asian paint</th>\n",
       "      <th>Nifty</th>\n",
       "      <th>z_score_hdfc</th>\n",
       "    </tr>\n",
       "  </thead>\n",
       "  <tbody>\n",
       "  </tbody>\n",
       "</table>\n",
       "</div>"
      ],
      "text/plain": [
       "Empty DataFrame\n",
       "Columns: [Date, hdfc, asian paint, Nifty, z_score_hdfc]\n",
       "Index: []"
      ]
     },
     "execution_count": 18,
     "metadata": {},
     "output_type": "execute_result"
    }
   ],
   "source": [
    "Stock_df[(Stock_df.z_score_hdfc > 3.0)|(Stock_df.z_score_hdfc < -3.0)]"
   ]
  },
  {
   "cell_type": "code",
   "execution_count": 19,
   "id": "dc11c6cf",
   "metadata": {},
   "outputs": [
    {
     "data": {
      "image/png": "[encoded data removed]",
      "text/plain": [
       "<Figure size 432x288 with 1 Axes>"
      ]
     },
     "metadata": {
      "needs_background": "light"
     },
     "output_type": "display_data"
    }
   ],
   "source": [
    "# Step 19 Outlier Detection using cook distance #\n",
    "import numpy as np\n",
    "hdfc_influence = hdfc_lm.get_influence() \n",
    "(c, p) = hdfc_influence.cooks_distance \n",
    "plt.stem( np.arange( len(train_X) ), \n",
    "np.round( c, 3), \n",
    "markerfmt=\",\"); \n",
    "plt.title(\"Cooks distance for all observations in Finance dataset\"); \n",
    "plt.xlabel(\"Row index\") \n",
    "plt.ylabel(\"Cooks Distance\");"
   ]
  },
  {
   "cell_type": "code",
   "execution_count": 20,
   "id": "fbc44fd2",
   "metadata": {},
   "outputs": [
    {
     "data": {
      "image/png": "[encoded data removed]",
      "text/plain": [
       "<Figure size 576x432 with 1 Axes>"
      ]
     },
     "metadata": {
      "needs_background": "light"
     },
     "output_type": "display_data"
    }
   ],
   "source": [
    "# Step 20 Outlier Detection using Leverage #\n",
    "from statsmodels.graphics.regressionplots import influence_plot \n",
    "fig, ax = plt.subplots( figsize=(8,6)) \n",
    "influence_plot(hdfc_lm, ax = ax) \n",
    "plt.title(\"Leverage Value Vs Residuals\") \n",
    "plt.show();\n"
   ]
  },
  {
   "cell_type": "code",
   "execution_count": 21,
   "id": "6df6949b",
   "metadata": {},
   "outputs": [],
   "source": [
    "#step 21 predicting on validation set\n",
    "pred_y=hdfc_lm.predict(test_X)"
   ]
  },
  {
   "cell_type": "code",
   "execution_count": 22,
   "id": "1e3b85ba",
   "metadata": {},
   "outputs": [],
   "source": [
    "# Step 22  Strength of relatinship using R Square and error #\n",
    "#Finding R-Square and RMSE#\n",
    "from sklearn.metrics import r2_score, mean_squared_error"
   ]
  },
  {
   "cell_type": "code",
   "execution_count": 23,
   "id": "1be2e8f8",
   "metadata": {},
   "outputs": [
    {
     "data": {
      "text/plain": [
       "0.9199138769146527"
      ]
     },
     "execution_count": 23,
     "metadata": {},
     "output_type": "execute_result"
    }
   ],
   "source": [
    "np.abs(r2_score(test_y,pred_y))"
   ]
  },
  {
   "cell_type": "code",
   "execution_count": 24,
   "id": "dcd0fb72",
   "metadata": {},
   "outputs": [],
   "source": [
    "import numpy as np"
   ]
  },
  {
   "cell_type": "code",
   "execution_count": 25,
   "id": "5787c8d1",
   "metadata": {},
   "outputs": [
    {
     "data": {
      "text/plain": [
       "113.16056040424702"
      ]
     },
     "execution_count": 25,
     "metadata": {},
     "output_type": "execute_result"
    }
   ],
   "source": [
    "#finding root mean square error\n",
    "np.sqrt(mean_squared_error(test_y,pred_y))"
   ]
  },
  {
   "cell_type": "code",
   "execution_count": 26,
   "id": "0d0cf29a",
   "metadata": {},
   "outputs": [],
   "source": [
    "from statsmodels.sandbox.regression.predstd import wls_prediction_std \n",
    "# Predict the y values\n",
    "pred_y = hdfc_lm.predict(test_X ) \n",
    "# Predict the low and high interval values for y\n",
    "_, pred_y_low, pred_y_high = wls_prediction_std( hdfc_lm,test_X,alpha = 0.1) \n",
    "# Store all the values in a dataframe\n",
    "pred_y_df = pd.DataFrame({'Nifty Closing': test_X['Nifty'], \n",
    "'pred_y': pred_y, \n",
    "'pred_y_left': pred_y_low, \n",
    "'pred_y_right': pred_y_high })"
   ]
  },
  {
   "cell_type": "code",
   "execution_count": 27,
   "id": "5ef3eae1",
   "metadata": {},
   "outputs": [
    {
     "data": {
      "text/html": [
       "<div>\n",
       "<style scoped>\n",
       "    .dataframe tbody tr th:only-of-type {\n",
       "        vertical-align: middle;\n",
       "    }\n",
       "\n",
       "    .dataframe tbody tr th {\n",
       "        vertical-align: top;\n",
       "    }\n",
       "\n",
       "    .dataframe thead th {\n",
       "        text-align: right;\n",
       "    }\n",
       "</style>\n",
       "<table border=\"1\" class=\"dataframe\">\n",
       "  <thead>\n",
       "    <tr style=\"text-align: right;\">\n",
       "      <th></th>\n",
       "      <th>Nifty Closing</th>\n",
       "      <th>pred_y</th>\n",
       "      <th>pred_y_left</th>\n",
       "      <th>pred_y_right</th>\n",
       "    </tr>\n",
       "  </thead>\n",
       "  <tbody>\n",
       "    <tr>\n",
       "      <th>65</th>\n",
       "      <td>10813.45</td>\n",
       "      <td>1859.211624</td>\n",
       "      <td>1672.206918</td>\n",
       "      <td>2046.216331</td>\n",
       "    </tr>\n",
       "    <tr>\n",
       "      <th>59</th>\n",
       "      <td>10430.05</td>\n",
       "      <td>1788.092358</td>\n",
       "      <td>1600.961962</td>\n",
       "      <td>1975.222754</td>\n",
       "    </tr>\n",
       "    <tr>\n",
       "      <th>194</th>\n",
       "      <td>14484.75</td>\n",
       "      <td>2540.224047</td>\n",
       "      <td>2352.591582</td>\n",
       "      <td>2727.856511</td>\n",
       "    </tr>\n",
       "    <tr>\n",
       "      <th>112</th>\n",
       "      <td>11440.05</td>\n",
       "      <td>1975.443581</td>\n",
       "      <td>1788.566487</td>\n",
       "      <td>2162.320676</td>\n",
       "    </tr>\n",
       "    <tr>\n",
       "      <th>192</th>\n",
       "      <td>14137.35</td>\n",
       "      <td>2475.782646</td>\n",
       "      <td>2288.351286</td>\n",
       "      <td>2663.214005</td>\n",
       "    </tr>\n",
       "    <tr>\n",
       "      <th>169</th>\n",
       "      <td>13258.55</td>\n",
       "      <td>2312.768532</td>\n",
       "      <td>2125.714179</td>\n",
       "      <td>2499.822884</td>\n",
       "    </tr>\n",
       "    <tr>\n",
       "      <th>152</th>\n",
       "      <td>12631.10</td>\n",
       "      <td>2196.378903</td>\n",
       "      <td>2009.477731</td>\n",
       "      <td>2383.280074</td>\n",
       "    </tr>\n",
       "    <tr>\n",
       "      <th>203</th>\n",
       "      <td>14371.90</td>\n",
       "      <td>2519.290794</td>\n",
       "      <td>2331.726882</td>\n",
       "      <td>2706.854705</td>\n",
       "    </tr>\n",
       "    <tr>\n",
       "      <th>214</th>\n",
       "      <td>15109.30</td>\n",
       "      <td>2656.075736</td>\n",
       "      <td>2468.007939</td>\n",
       "      <td>2844.143534</td>\n",
       "    </tr>\n",
       "    <tr>\n",
       "      <th>173</th>\n",
       "      <td>13478.30</td>\n",
       "      <td>2353.531335</td>\n",
       "      <td>2166.400456</td>\n",
       "      <td>2540.662214</td>\n",
       "    </tr>\n",
       "  </tbody>\n",
       "</table>\n",
       "</div>"
      ],
      "text/plain": [
       "     Nifty Closing       pred_y  pred_y_left  pred_y_right\n",
       "65        10813.45  1859.211624  1672.206918   2046.216331\n",
       "59        10430.05  1788.092358  1600.961962   1975.222754\n",
       "194       14484.75  2540.224047  2352.591582   2727.856511\n",
       "112       11440.05  1975.443581  1788.566487   2162.320676\n",
       "192       14137.35  2475.782646  2288.351286   2663.214005\n",
       "169       13258.55  2312.768532  2125.714179   2499.822884\n",
       "152       12631.10  2196.378903  2009.477731   2383.280074\n",
       "203       14371.90  2519.290794  2331.726882   2706.854705\n",
       "214       15109.30  2656.075736  2468.007939   2844.143534\n",
       "173       13478.30  2353.531335  2166.400456   2540.662214"
      ]
     },
     "execution_count": 27,
     "metadata": {},
     "output_type": "execute_result"
    }
   ],
   "source": [
    "pred_y_df[0:10]"
   ]
  },
  {
   "cell_type": "code",
   "execution_count": null,
   "id": "3a7533ee",
   "metadata": {},
   "outputs": [],
   "source": []
  }
 ],
 "metadata": {
  "kernelspec": {
   "display_name": "Python 3",
   "language": "python",
   "name": "python3"
  },
  "language_info": {
   "codemirror_mode": {
    "name": "ipython",
    "version": 3
   },
   "file_extension": ".py",
   "mimetype": "text/x-python",
   "name": "python",
   "nbconvert_exporter": "python",
   "pygments_lexer": "ipython3",
   "version": "3.8.8"
  }
 },
 "nbformat": 4,
 "nbformat_minor": 5
}
